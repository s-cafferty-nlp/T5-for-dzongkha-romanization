{
 "cells": [
  {
   "cell_type": "code",
   "execution_count": 1,
   "metadata": {},
   "outputs": [],
   "source": [
    "import pandas as pd"
   ]
  },
  {
   "cell_type": "code",
   "execution_count": 20,
   "metadata": {},
   "outputs": [],
   "source": [
    "df = pd.read_csv('../data/dzongkha_copy_paste.csv')"
   ]
  },
  {
   "cell_type": "code",
   "execution_count": 21,
   "metadata": {},
   "outputs": [],
   "source": [
    "df = df.rename(columns={'Unnamed: 1':'text','Unnamed: 2':'text2','Unnamed: 3':'category'})"
   ]
  },
  {
   "cell_type": "code",
   "execution_count": 34,
   "metadata": {},
   "outputs": [],
   "source": [
    "def get_dzongkha_text(df):\n",
    "    dz_list = []\n",
    "    ro_list = []\n",
    "    for idx in range(len(df)):\n",
    "        if df.iloc[idx]['category'] == 0:\n",
    "            dz_list.append(df.iloc[idx]['text'].split()[0])\n",
    "            ro_list.append(df.iloc[idx]['text'].split()[2])\n",
    "        elif df.iloc[idx]['category'] == 1:\n",
    "            dz_list.append(df.iloc[idx]['text'].split()[0])\n",
    "            ro_list.append(df.iloc[idx]['text'].split()[1])\n",
    "        elif df.iloc[idx]['category'] == 2:\n",
    "            dz_list.append(df.iloc[idx]['text'])\n",
    "            ro_list.append(df.iloc[idx]['text2'])\n",
    "    \n",
    "    return pd.DataFrame([dz_list,ro_list]).transpose()\n",
    "dff = get_dzongkha_text(df)"
   ]
  },
  {
   "cell_type": "code",
   "execution_count": 35,
   "metadata": {},
   "outputs": [],
   "source": [
    "dff = dff.rename(columns = {0:'dzongkha',1:'romanized'})"
   ]
  },
  {
   "cell_type": "code",
   "execution_count": 36,
   "metadata": {},
   "outputs": [],
   "source": [
    "dff.to_csv('../data/clean_dzongkha.csv')"
   ]
  },
  {
   "cell_type": "code",
   "execution_count": 38,
   "metadata": {},
   "outputs": [
    {
     "data": {
      "text/html": [
       "<div>\n",
       "<style scoped>\n",
       "    .dataframe tbody tr th:only-of-type {\n",
       "        vertical-align: middle;\n",
       "    }\n",
       "\n",
       "    .dataframe tbody tr th {\n",
       "        vertical-align: top;\n",
       "    }\n",
       "\n",
       "    .dataframe thead th {\n",
       "        text-align: right;\n",
       "    }\n",
       "</style>\n",
       "<table border=\"1\" class=\"dataframe\">\n",
       "  <thead>\n",
       "    <tr style=\"text-align: right;\">\n",
       "      <th></th>\n",
       "      <th>dzongkha</th>\n",
       "      <th>romanized</th>\n",
       "    </tr>\n",
       "  </thead>\n",
       "  <tbody>\n",
       "    <tr>\n",
       "      <th>0</th>\n",
       "      <td>ཀཝ་</td>\n",
       "      <td>kau</td>\n",
       "    </tr>\n",
       "    <tr>\n",
       "      <th>1</th>\n",
       "      <td>ཀྲེམ་ཟེ་</td>\n",
       "      <td>tremze</td>\n",
       "    </tr>\n",
       "    <tr>\n",
       "      <th>2</th>\n",
       "      <td>ཀྲོག་</td>\n",
       "      <td>tro</td>\n",
       "    </tr>\n",
       "    <tr>\n",
       "      <th>3</th>\n",
       "      <td>ཀླདཔ་</td>\n",
       "      <td>’lep</td>\n",
       "    </tr>\n",
       "    <tr>\n",
       "      <th>4</th>\n",
       "      <td>ཀུན་གསལ་</td>\n",
       "      <td>Künsel</td>\n",
       "    </tr>\n",
       "    <tr>\n",
       "      <th>...</th>\n",
       "      <td>...</td>\n",
       "      <td>...</td>\n",
       "    </tr>\n",
       "    <tr>\n",
       "      <th>1195</th>\n",
       "      <td>ཨམ་</td>\n",
       "      <td>’am,</td>\n",
       "    </tr>\n",
       "    <tr>\n",
       "      <th>1196</th>\n",
       "      <td>ཨའུ་</td>\n",
       "      <td>’au,</td>\n",
       "    </tr>\n",
       "    <tr>\n",
       "      <th>1197</th>\n",
       "      <td>ཨརཝ་རྐུ་ནི་</td>\n",
       "      <td>’âuku-ni,</td>\n",
       "    </tr>\n",
       "    <tr>\n",
       "      <th>1198</th>\n",
       "      <td>ཨེ་ཏོ་མེ་ཏོག་</td>\n",
       "      <td>’ätomito,</td>\n",
       "    </tr>\n",
       "    <tr>\n",
       "      <th>1199</th>\n",
       "      <td>ཨེན་ཏ་</td>\n",
       "      <td>’entha,</td>\n",
       "    </tr>\n",
       "  </tbody>\n",
       "</table>\n",
       "<p>1200 rows × 2 columns</p>\n",
       "</div>"
      ],
      "text/plain": [
       "           dzongkha  romanized\n",
       "0               ཀཝ་        kau\n",
       "1          ཀྲེམ་ཟེ་     tremze\n",
       "2             ཀྲོག་        tro\n",
       "3             ཀླདཔ་       ’lep\n",
       "4          ཀུན་གསལ་     Künsel\n",
       "...             ...        ...\n",
       "1195            ཨམ་       ’am,\n",
       "1196           ཨའུ་       ’au,\n",
       "1197    ཨརཝ་རྐུ་ནི་  ’âuku-ni,\n",
       "1198  ཨེ་ཏོ་མེ་ཏོག་  ’ätomito,\n",
       "1199         ཨེན་ཏ་    ’entha,\n",
       "\n",
       "[1200 rows x 2 columns]"
      ]
     },
     "execution_count": 38,
     "metadata": {},
     "output_type": "execute_result"
    }
   ],
   "source": [
    "dff"
   ]
  },
  {
   "cell_type": "code",
   "execution_count": null,
   "metadata": {},
   "outputs": [],
   "source": []
  }
 ],
 "metadata": {
  "kernelspec": {
   "display_name": "Python 3",
   "language": "python",
   "name": "python3"
  },
  "language_info": {
   "codemirror_mode": {
    "name": "ipython",
    "version": 3
   },
   "file_extension": ".py",
   "mimetype": "text/x-python",
   "name": "python",
   "nbconvert_exporter": "python",
   "pygments_lexer": "ipython3",
   "version": "3.9.6"
  },
  "orig_nbformat": 4,
  "vscode": {
   "interpreter": {
    "hash": "31f2aee4e71d21fbe5cf8b01ff0e069b9275f58929596ceb00d14d90e3e16cd6"
   }
  }
 },
 "nbformat": 4,
 "nbformat_minor": 2
}
