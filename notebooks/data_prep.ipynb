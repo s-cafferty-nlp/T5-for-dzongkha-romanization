{
 "cells": [
  {
   "cell_type": "code",
   "execution_count": 2,
   "metadata": {},
   "outputs": [],
   "source": [
    "import pandas as pd"
   ]
  },
  {
   "cell_type": "code",
   "execution_count": 3,
   "metadata": {},
   "outputs": [],
   "source": [
    "df = pd.read_csv('../data/dzongkha_copy_paste.csv')"
   ]
  },
  {
   "cell_type": "code",
   "execution_count": 4,
   "metadata": {},
   "outputs": [],
   "source": [
    "df = df.rename(columns={'Unnamed: 1':'text','Unnamed: 2':'text2','Unnamed: 3':'category'})"
   ]
  },
  {
   "cell_type": "code",
   "execution_count": 5,
   "metadata": {},
   "outputs": [],
   "source": [
    "def get_dzongkha_text(df):\n",
    "    dz_list = []\n",
    "    ro_list = []\n",
    "    for idx in range(len(df)):\n",
    "        if df.iloc[idx]['category'] == 0:\n",
    "            dz_list.append(df.iloc[idx]['text'].split()[0])\n",
    "            ro_list.append(df.iloc[idx]['text'].split()[2])\n",
    "        elif df.iloc[idx]['category'] == 1:\n",
    "            dz_list.append(df.iloc[idx]['text'].split()[0])\n",
    "            ro_list.append(df.iloc[idx]['text'].split()[1])\n",
    "        elif df.iloc[idx]['category'] == 2:\n",
    "            dz_list.append(df.iloc[idx]['text'])\n",
    "            ro_list.append(df.iloc[idx]['text2'])\n",
    "    \n",
    "    return pd.DataFrame([dz_list,ro_list]).transpose()\n",
    "dff = get_dzongkha_text(df)"
   ]
  },
  {
   "cell_type": "code",
   "execution_count": 6,
   "metadata": {},
   "outputs": [],
   "source": [
    "dff = dff.rename(columns = {0:'dzongkha',1:'romanized'})"
   ]
  },
  {
   "cell_type": "code",
   "execution_count": 8,
   "metadata": {},
   "outputs": [],
   "source": [
    "dff.to_csv('../data/clean_dzongkha.csv')"
   ]
  },
  {
   "cell_type": "code",
   "execution_count": 9,
   "metadata": {},
   "outputs": [
    {
     "data": {
      "text/html": [
       "<div>\n",
       "<style scoped>\n",
       "    .dataframe tbody tr th:only-of-type {\n",
       "        vertical-align: middle;\n",
       "    }\n",
       "\n",
       "    .dataframe tbody tr th {\n",
       "        vertical-align: top;\n",
       "    }\n",
       "\n",
       "    .dataframe thead th {\n",
       "        text-align: right;\n",
       "    }\n",
       "</style>\n",
       "<table border=\"1\" class=\"dataframe\">\n",
       "  <thead>\n",
       "    <tr style=\"text-align: right;\">\n",
       "      <th></th>\n",
       "      <th>dzongkha</th>\n",
       "      <th>romanized</th>\n",
       "    </tr>\n",
       "  </thead>\n",
       "  <tbody>\n",
       "    <tr>\n",
       "      <th>0</th>\n",
       "      <td>ཀཝ་</td>\n",
       "      <td>kau</td>\n",
       "    </tr>\n",
       "    <tr>\n",
       "      <th>1</th>\n",
       "      <td>ཀྲེམ་ཟེ་</td>\n",
       "      <td>tremze</td>\n",
       "    </tr>\n",
       "    <tr>\n",
       "      <th>2</th>\n",
       "      <td>ཀྲོག་</td>\n",
       "      <td>tro</td>\n",
       "    </tr>\n",
       "    <tr>\n",
       "      <th>3</th>\n",
       "      <td>ཀླདཔ་</td>\n",
       "      <td>’lep</td>\n",
       "    </tr>\n",
       "    <tr>\n",
       "      <th>4</th>\n",
       "      <td>ཀུན་གསལ་</td>\n",
       "      <td>Künsel</td>\n",
       "    </tr>\n",
       "    <tr>\n",
       "      <th>...</th>\n",
       "      <td>...</td>\n",
       "      <td>...</td>\n",
       "    </tr>\n",
       "    <tr>\n",
       "      <th>1195</th>\n",
       "      <td>ཨམ་</td>\n",
       "      <td>’am,</td>\n",
       "    </tr>\n",
       "    <tr>\n",
       "      <th>1196</th>\n",
       "      <td>ཨའུ་</td>\n",
       "      <td>’au,</td>\n",
       "    </tr>\n",
       "    <tr>\n",
       "      <th>1197</th>\n",
       "      <td>ཨརཝ་རྐུ་ནི་</td>\n",
       "      <td>’âuku-ni,</td>\n",
       "    </tr>\n",
       "    <tr>\n",
       "      <th>1198</th>\n",
       "      <td>ཨེ་ཏོ་མེ་ཏོག་</td>\n",
       "      <td>’ätomito,</td>\n",
       "    </tr>\n",
       "    <tr>\n",
       "      <th>1199</th>\n",
       "      <td>ཨེན་ཏ་</td>\n",
       "      <td>’entha,</td>\n",
       "    </tr>\n",
       "  </tbody>\n",
       "</table>\n",
       "<p>1200 rows × 2 columns</p>\n",
       "</div>"
      ],
      "text/plain": [
       "           dzongkha  romanized\n",
       "0               ཀཝ་        kau\n",
       "1          ཀྲེམ་ཟེ་     tremze\n",
       "2             ཀྲོག་        tro\n",
       "3             ཀླདཔ་       ’lep\n",
       "4          ཀུན་གསལ་     Künsel\n",
       "...             ...        ...\n",
       "1195            ཨམ་       ’am,\n",
       "1196           ཨའུ་       ’au,\n",
       "1197    ཨརཝ་རྐུ་ནི་  ’âuku-ni,\n",
       "1198  ཨེ་ཏོ་མེ་ཏོག་  ’ätomito,\n",
       "1199         ཨེན་ཏ་    ’entha,\n",
       "\n",
       "[1200 rows x 2 columns]"
      ]
     },
     "execution_count": 9,
     "metadata": {},
     "output_type": "execute_result"
    }
   ],
   "source": [
    "dff"
   ]
  },
  {
   "cell_type": "code",
   "execution_count": 11,
   "metadata": {},
   "outputs": [],
   "source": [
    "dff.to_csv('../data/dzongkha_romanized.txt', header=None, index=None, sep=' ', mode='a')"
   ]
  },
  {
   "attachments": {},
   "cell_type": "markdown",
   "metadata": {},
   "source": [
    "Generate GPT Prompt"
   ]
  },
  {
   "cell_type": "code",
   "execution_count": 10,
   "metadata": {},
   "outputs": [],
   "source": [
    "def generate_gpt_prompt(df):\n",
    "    text = ''\n",
    "    for idx in range(len(df)):\n",
    "        text += 'DZONGKHA: '  + df.iloc[idx]['dzongkha'] + '\\n\\n'\n",
    "        text += 'ROMANIZED: '  + df.iloc[idx]['romanized'] + '\\n\\n\\n\\n\\n\\n'\n",
    "    return text\n",
    "\n",
    "text = generate_gpt_prompt(dff)\n",
    "\n",
    "file = open(\"../data/dzongkha.txt\", \"w\")\n",
    "a = file.write(text)\n",
    "file.close()"
   ]
  },
  {
   "cell_type": "code",
   "execution_count": 7,
   "metadata": {},
   "outputs": [],
   "source": [
    "dff = pd.read_csv('../data/thai_romanization.csv',delimiter='\t')\n",
    "dff = dff.dropna(axis=0)\n",
    "\n",
    "def generate_thai_gpt_prompt(df):\n",
    "    text = ''\n",
    "    for idx in range(len(df)):\n",
    "        text += 'THAI: '  + df.iloc[idx]['word'] + '\\n\\n'\n",
    "        text += 'ROMANIZED: '  + df.iloc[idx]['romanization'] + '\\n\\n\\n\\n\\n\\n'\n",
    "    return text\n",
    "\n",
    "text = generate_thai_gpt_prompt(dff)\n",
    "\n",
    "file = open(\"../data/thai_romanization_gpt.txt\", \"w\")\n",
    "a = file.write(text)\n",
    "file.close()"
   ]
  },
  {
   "cell_type": "code",
   "execution_count": 5,
   "metadata": {},
   "outputs": [
    {
     "data": {
      "text/html": [
       "<div>\n",
       "<style scoped>\n",
       "    .dataframe tbody tr th:only-of-type {\n",
       "        vertical-align: middle;\n",
       "    }\n",
       "\n",
       "    .dataframe tbody tr th {\n",
       "        vertical-align: top;\n",
       "    }\n",
       "\n",
       "    .dataframe thead th {\n",
       "        text-align: right;\n",
       "    }\n",
       "</style>\n",
       "<table border=\"1\" class=\"dataframe\">\n",
       "  <thead>\n",
       "    <tr style=\"text-align: right;\">\n",
       "      <th></th>\n",
       "      <th>word\\tromanization</th>\n",
       "    </tr>\n",
       "  </thead>\n",
       "  <tbody>\n",
       "    <tr>\n",
       "      <th>0</th>\n",
       "      <td>กองพันทหารปืนใหญ่\\tkongphanthahanpuenyai</td>\n",
       "    </tr>\n",
       "    <tr>\n",
       "      <th>1</th>\n",
       "      <td>วิฑูรย์\\twithun</td>\n",
       "    </tr>\n",
       "    <tr>\n",
       "      <th>2</th>\n",
       "      <td>เมตาบอลิสม\\tmetabolisom</td>\n",
       "    </tr>\n",
       "    <tr>\n",
       "      <th>3</th>\n",
       "      <td>บ้านหนองเลา\\tbannonglao</td>\n",
       "    </tr>\n",
       "    <tr>\n",
       "      <th>4</th>\n",
       "      <td>อายุษ\\tayut</td>\n",
       "    </tr>\n",
       "    <tr>\n",
       "      <th>...</th>\n",
       "      <td>...</td>\n",
       "    </tr>\n",
       "    <tr>\n",
       "      <th>648236</th>\n",
       "      <td>วรรณพงษ์ ภัททิยไพบูลย์\\twannaphong phatthiyaph...</td>\n",
       "    </tr>\n",
       "    <tr>\n",
       "      <th>648237</th>\n",
       "      <td>รักตัวเอง\\traktua-eng</td>\n",
       "    </tr>\n",
       "    <tr>\n",
       "      <th>648238</th>\n",
       "      <td>คุณพี่\\tkhunphi</td>\n",
       "    </tr>\n",
       "    <tr>\n",
       "      <th>648239</th>\n",
       "      <td>วงไว้\\twongwai</td>\n",
       "    </tr>\n",
       "    <tr>\n",
       "      <th>648240</th>\n",
       "      <td>งวดหวย\\tnguathuai</td>\n",
       "    </tr>\n",
       "  </tbody>\n",
       "</table>\n",
       "<p>648241 rows × 1 columns</p>\n",
       "</div>"
      ],
      "text/plain": [
       "                                       word\\tromanization\n",
       "0                กองพันทหารปืนใหญ่\\tkongphanthahanpuenyai\n",
       "1                                         วิฑูรย์\\twithun\n",
       "2                                 เมตาบอลิสม\\tmetabolisom\n",
       "3                                 บ้านหนองเลา\\tbannonglao\n",
       "4                                             อายุษ\\tayut\n",
       "...                                                   ...\n",
       "648236  วรรณพงษ์ ภัททิยไพบูลย์\\twannaphong phatthiyaph...\n",
       "648237                              รักตัวเอง\\traktua-eng\n",
       "648238                                    คุณพี่\\tkhunphi\n",
       "648239                                     วงไว้\\twongwai\n",
       "648240                                  งวดหวย\\tnguathuai\n",
       "\n",
       "[648241 rows x 1 columns]"
      ]
     },
     "execution_count": 5,
     "metadata": {},
     "output_type": "execute_result"
    }
   ],
   "source": [
    "dff"
   ]
  },
  {
   "cell_type": "code",
   "execution_count": null,
   "metadata": {},
   "outputs": [],
   "source": []
  }
 ],
 "metadata": {
  "kernelspec": {
   "display_name": "Python 3",
   "language": "python",
   "name": "python3"
  },
  "language_info": {
   "codemirror_mode": {
    "name": "ipython",
    "version": 3
   },
   "file_extension": ".py",
   "mimetype": "text/x-python",
   "name": "python",
   "nbconvert_exporter": "python",
   "pygments_lexer": "ipython3",
   "version": "3.9.6"
  },
  "orig_nbformat": 4,
  "vscode": {
   "interpreter": {
    "hash": "31f2aee4e71d21fbe5cf8b01ff0e069b9275f58929596ceb00d14d90e3e16cd6"
   }
  }
 },
 "nbformat": 4,
 "nbformat_minor": 2
}
